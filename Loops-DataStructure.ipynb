{
 "cells": [
  {
   "cell_type": "markdown",
   "id": "087770a4",
   "metadata": {},
   "source": [
    "# print functions"
   ]
  },
  {
   "cell_type": "code",
   "execution_count": 1,
   "id": "bf6f411d",
   "metadata": {},
   "outputs": [
    {
     "name": "stdout",
     "output_type": "stream",
     "text": [
      "Hello\n"
     ]
    }
   ],
   "source": [
    "print(\"Hello\")"
   ]
  },
  {
   "cell_type": "code",
   "execution_count": 2,
   "id": "cb23a054",
   "metadata": {},
   "outputs": [],
   "source": [
    "name='Raghul Ramesh'"
   ]
  },
  {
   "cell_type": "code",
   "execution_count": 3,
   "id": "3c2f8f2d",
   "metadata": {},
   "outputs": [
    {
     "name": "stdout",
     "output_type": "stream",
     "text": [
      "name\n"
     ]
    }
   ],
   "source": [
    "print('name')"
   ]
  },
  {
   "cell_type": "code",
   "execution_count": 5,
   "id": "ad9027a0",
   "metadata": {},
   "outputs": [
    {
     "name": "stdout",
     "output_type": "stream",
     "text": [
      "Raghul Ramesh\n"
     ]
    }
   ],
   "source": [
    "print(name)"
   ]
  },
  {
   "cell_type": "code",
   "execution_count": 6,
   "id": "56d32934",
   "metadata": {},
   "outputs": [
    {
     "name": "stdout",
     "output_type": "stream",
     "text": [
      "Trainer name is : name\n"
     ]
    }
   ],
   "source": [
    "print('Trainer name is : name')"
   ]
  },
  {
   "cell_type": "code",
   "execution_count": 7,
   "id": "2bc99022",
   "metadata": {},
   "outputs": [
    {
     "name": "stdout",
     "output_type": "stream",
     "text": [
      "Trainer name is :  Raghul Ramesh\n"
     ]
    }
   ],
   "source": [
    "print('Trainer name is : ',name)"
   ]
  },
  {
   "cell_type": "code",
   "execution_count": 17,
   "id": "faa891ad",
   "metadata": {},
   "outputs": [
    {
     "name": "stdout",
     "output_type": "stream",
     "text": [
      "Trainer name is  Raghul Ramesh and he is  37 years old\n"
     ]
    }
   ],
   "source": [
    "name='Raghul Ramesh'\n",
    "age=37\n",
    "city='Chennai'\n",
    "\n",
    "#Trainer name is Raghul Ramesh and he is 37 years old\n",
    "\n",
    "print(\"Trainer name is \", name , \"and he is \", age , \"years old\")"
   ]
  },
  {
   "cell_type": "code",
   "execution_count": 19,
   "id": "ab052563",
   "metadata": {},
   "outputs": [
    {
     "name": "stdout",
     "output_type": "stream",
     "text": [
      "Trainer name is Raghul Ramesh and he is 37 years old and he is from Chennai\n"
     ]
    }
   ],
   "source": [
    "print(\"Trainer name is {} and he is {} years old and he is from {}\".format(name,age,city))"
   ]
  },
  {
   "cell_type": "code",
   "execution_count": 18,
   "id": "39b44c07",
   "metadata": {},
   "outputs": [
    {
     "name": "stdout",
     "output_type": "stream",
     "text": [
      "Trainer name is Raghul Ramesh and he is 37 years old and he is from Chennai\n"
     ]
    }
   ],
   "source": [
    "print(f\"Trainer name is {name} and he is {age} years old and he is from {city}\")"
   ]
  },
  {
   "cell_type": "code",
   "execution_count": 26,
   "id": "3dd82fba",
   "metadata": {},
   "outputs": [
    {
     "name": "stdout",
     "output_type": "stream",
     "text": [
      "Trainer name is Raghul Ramesh and he is 37 years old and he is from Chennai\n"
     ]
    }
   ],
   "source": [
    "print(\"Trainer name is {2} and he is {0} years old and he is from {1}\".format(age,city,name))"
   ]
  },
  {
   "cell_type": "code",
   "execution_count": 31,
   "id": "39c895cb",
   "metadata": {},
   "outputs": [
    {
     "name": "stdout",
     "output_type": "stream",
     "text": [
      "The product's price is : 565.659\n"
     ]
    }
   ],
   "source": [
    "price=565.6587432\n",
    "print(\"The product's price is : {0:.3f}\".format(price))"
   ]
  },
  {
   "cell_type": "code",
   "execution_count": 34,
   "id": "fcef3957",
   "metadata": {},
   "outputs": [
    {
     "data": {
      "text/plain": [
       "565.659"
      ]
     },
     "execution_count": 34,
     "metadata": {},
     "output_type": "execute_result"
    }
   ],
   "source": [
    "round(price,3)"
   ]
  },
  {
   "cell_type": "code",
   "execution_count": 35,
   "id": "1906e783",
   "metadata": {},
   "outputs": [
    {
     "name": "stdout",
     "output_type": "stream",
     "text": [
      "The product's price is : 565.66\n"
     ]
    }
   ],
   "source": [
    "print(\"The product's price is : {}\".format(round(price,2)))"
   ]
  },
  {
   "cell_type": "markdown",
   "id": "157271ca",
   "metadata": {},
   "source": [
    "# input function"
   ]
  },
  {
   "cell_type": "code",
   "execution_count": 42,
   "id": "6c603796",
   "metadata": {},
   "outputs": [
    {
     "name": "stdout",
     "output_type": "stream",
     "text": [
      "Enter your name:Raghul Ramesh\n",
      "Enter your age:37\n",
      "The type of name is : <class 'str'>\n",
      "The type of age is : <class 'int'>\n",
      "Age is: 38\n"
     ]
    }
   ],
   "source": [
    "name=input(\"Enter your name:\")\n",
    "age=int(input(\"Enter your age:\"))\n",
    "age=age+1\n",
    "print(\"The type of name is :\", type(name))\n",
    "print(\"The type of age is :\", type(age))\n",
    "print(\"Age is:\",age)"
   ]
  },
  {
   "cell_type": "code",
   "execution_count": 51,
   "id": "061f68da",
   "metadata": {},
   "outputs": [
    {
     "name": "stdout",
     "output_type": "stream",
     "text": [
      "Enter your account number:56556646\n",
      "Enter your name:bcgve\n",
      "Enter 4 digit pin:64\n",
      "56556646,bcgve,64\n",
      "Type of acct:<class 'str'>, name:<class 'str'> and pin:<class 'int'>\n"
     ]
    }
   ],
   "source": [
    "acct=input(\"Enter your account number:\")\n",
    "name=input(\"Enter your name:\")\n",
    "pin=int(input(\"Enter 4 digit pin:\"))\n",
    "\n",
    "print(\"{},{},{}\".format(acct,name,pin))\n",
    "print(\"Type of acct:{}, name:{} and pin:{}\".format(type(acct),type(name),type(pin)))"
   ]
  },
  {
   "cell_type": "markdown",
   "id": "bb175a4f",
   "metadata": {},
   "source": [
    "# range function"
   ]
  },
  {
   "cell_type": "code",
   "execution_count": 44,
   "id": "9275fefa",
   "metadata": {},
   "outputs": [
    {
     "name": "stdout",
     "output_type": "stream",
     "text": [
      "1 2 3 4 5 6 7 8 9 10 11 12 13 14 15 16 17 18 19 20 21 22 23 24 25 26 27 28 29 30 31 32 33 34 35 36 37 38 39 40 41 42 43 44 45 46 47 48 49 50 51 52 53 54 55 56 57 58 59 60 61 62 63 64 65 66 67 68 69 70 71 72 73 74 75 76 77 78 79 80 81 82 83 84 85 86 87 88 89 90 91 92 93 94 95 96 97 98 99 100 "
     ]
    }
   ],
   "source": [
    "for x in range(1,101):\n",
    "    print(x,end =' ')"
   ]
  },
  {
   "cell_type": "code",
   "execution_count": 45,
   "id": "dd9041a3",
   "metadata": {},
   "outputs": [
    {
     "name": "stdout",
     "output_type": "stream",
     "text": [
      "1 3 5 7 9 11 13 15 17 19 21 23 25 27 29 31 33 35 37 39 41 43 45 47 49 51 53 55 57 59 61 63 65 67 69 71 73 75 77 79 81 83 85 87 89 91 93 95 97 99 "
     ]
    }
   ],
   "source": [
    "for x in range(1,101,2):\n",
    "    print(x,end =' ')"
   ]
  },
  {
   "cell_type": "code",
   "execution_count": 47,
   "id": "3f600168",
   "metadata": {},
   "outputs": [
    {
     "name": "stdout",
     "output_type": "stream",
     "text": [
      "2 4 6 8 10 12 14 16 18 20 22 24 26 28 30 32 34 36 38 40 42 44 46 48 50 52 54 56 58 60 62 64 66 68 70 72 74 76 78 80 82 84 86 88 90 92 94 96 98 100 "
     ]
    }
   ],
   "source": [
    "for x in range(2,101,2):\n",
    "    print(x,end =' ')"
   ]
  },
  {
   "cell_type": "code",
   "execution_count": null,
   "id": "6b41e854",
   "metadata": {},
   "outputs": [],
   "source": [
    "#LOOPS"
   ]
  }
 ],
 "metadata": {
  "kernelspec": {
   "display_name": "Python 3 (ipykernel)",
   "language": "python",
   "name": "python3"
  },
  "language_info": {
   "codemirror_mode": {
    "name": "ipython",
    "version": 3
   },
   "file_extension": ".py",
   "mimetype": "text/x-python",
   "name": "python",
   "nbconvert_exporter": "python",
   "pygments_lexer": "ipython3",
   "version": "3.8.10"
  }
 },
 "nbformat": 4,
 "nbformat_minor": 5
}
